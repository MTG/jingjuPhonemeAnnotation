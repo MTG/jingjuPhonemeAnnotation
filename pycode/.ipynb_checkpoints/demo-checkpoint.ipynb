{
 "cells": [
  {
   "cell_type": "code",
   "execution_count": 5,
   "metadata": {
    "collapsed": true
   },
   "outputs": [],
   "source": [
    "# -*- coding: utf-8 -*-\n",
    "\n",
    "\"\"\"\n",
    "author: Rong Gong, rong.gong@upf.edu\n",
    "\"\"\"\n",
    "\n",
    "import textgridParser"
   ]
  },
  {
   "cell_type": "code",
   "execution_count": 6,
   "metadata": {
    "collapsed": true
   },
   "outputs": [],
   "source": [
    "# the annotation we want to parse\n",
    "groundtruth_textgrid_file = '../laosheng/lsxp-Wo_zheng_zai-Kong_cheng_ji01-upf.TextGrid'"
   ]
  },
  {
   "cell_type": "code",
   "execution_count": 7,
   "metadata": {
    "collapsed": true
   },
   "outputs": [],
   "source": [
    "# parse the line boundary, and its content\n",
    "lineList = textgridParser.textGrid2WordList(groundtruth_textgrid_file, whichTier='line')"
   ]
  },
  {
   "cell_type": "code",
   "execution_count": 9,
   "metadata": {
    "collapsed": false
   },
   "outputs": [
    {
     "name": "stdout",
     "output_type": "stream",
     "text": [
      "[6.9698205821822246, 15.204951424910368, u'\\u6211\\u6b63\\u5728\\u57ce\\u697c\\u89c2\\u5c71\\u666f']\n"
     ]
    }
   ],
   "source": [
    "# print the second line, \n",
    "# 6.9698205821822246: line start time (s)\n",
    "# 15.204951424910368: line end time (s)\n",
    "# u'\\u6211\\u6b63\\u5728\\u57ce\\u697c\\u89c2\\u5c71\\u666f': lyrics\n",
    "print lineList[1]"
   ]
  },
  {
   "cell_type": "code",
   "execution_count": 10,
   "metadata": {
    "collapsed": true
   },
   "outputs": [],
   "source": [
    "# parse the dian (syllable with padding characters) Tier\n",
    "dianList = textgridParser.textGrid2WordList(groundtruth_textgrid_file, whichTier='dian')"
   ]
  },
  {
   "cell_type": "code",
   "execution_count": 12,
   "metadata": {
    "collapsed": false
   },
   "outputs": [
    {
     "name": "stdout",
     "output_type": "stream",
     "text": [
      "[6.9698205821822246, 7.5894989411718115, u'wo']\n"
     ]
    }
   ],
   "source": [
    "# print the second dian character\n",
    "# 6.9698205821822246: dian start time (s)\n",
    "# 7.5894989411718115: dian end time (s)\n",
    "# u'wo': dian Chinese pinyin\n",
    "print dianList[1]"
   ]
  }
 ],
 "metadata": {
  "kernelspec": {
   "display_name": "Python 2",
   "language": "python",
   "name": "python2"
  },
  "language_info": {
   "codemirror_mode": {
    "name": "ipython",
    "version": 2
   },
   "file_extension": ".py",
   "mimetype": "text/x-python",
   "name": "python",
   "nbconvert_exporter": "python",
   "pygments_lexer": "ipython2",
   "version": "2.7.9"
  }
 },
 "nbformat": 4,
 "nbformat_minor": 2
}
